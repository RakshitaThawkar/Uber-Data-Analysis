{
 "cells": [
  {
   "cell_type": "raw",
   "id": "44062e5b",
   "metadata": {},
   "source": [
    "INDEX\n",
    "\n",
    "ANALYSIS:\n",
    "\n",
    "1. PIE CHART: TRIPS COMPLETED V/S CANCELLED V/S CARS NOT AVAILABLE\n",
    "\n",
    "2. HISTOGRAM (X3): TRIPS COMPLETED/CANCELLED/CARS NOT AVAILABLE WITH TIME\n",
    "\n",
    "3. PIE CHART: PICKUP POINTS (CITY V/S AIRPORT)\n",
    "\n",
    "4. PIE CHART: TOTAL FAILED TRIPS (CANCELLED + NOT AVAILABLE)\n",
    "\n",
    "5. ANALYSIS OF FAILED TRIPS (X4);\n",
    "(a) CANCELLED TRIPS - CITY-TO-AIRPORT & AIRPORT-TO-CITY\n",
    "(b) CARS NOT AVAILABLE - CITY-TO-AIRPORT & AIRPORT-TO-CITY\n",
    "\n",
    "6. PIE CHART: DEMAND V/S SUPPLY"
   ]
  },
  {
   "cell_type": "markdown",
   "id": "bb0a6636",
   "metadata": {},
   "source": [
    "### Importing Libraries"
   ]
  },
  {
   "cell_type": "code",
   "execution_count": 1,
   "id": "5c867978",
   "metadata": {},
   "outputs": [],
   "source": [
    "import seaborn as sns\n",
    "import matplotlib.pyplot as plt\n",
    "import numpy as np\n",
    "import pandas as pd"
   ]
  },
  {
   "cell_type": "markdown",
   "id": "aac6af07",
   "metadata": {},
   "source": [
    "\n",
    "### Importing Dataset"
   ]
  },
  {
   "cell_type": "code",
   "execution_count": 2,
   "id": "e746cddb",
   "metadata": {},
   "outputs": [
    {
     "data": {
      "text/html": [
       "<div>\n",
       "<style scoped>\n",
       "    .dataframe tbody tr th:only-of-type {\n",
       "        vertical-align: middle;\n",
       "    }\n",
       "\n",
       "    .dataframe tbody tr th {\n",
       "        vertical-align: top;\n",
       "    }\n",
       "\n",
       "    .dataframe thead th {\n",
       "        text-align: right;\n",
       "    }\n",
       "</style>\n",
       "<table border=\"1\" class=\"dataframe\">\n",
       "  <thead>\n",
       "    <tr style=\"text-align: right;\">\n",
       "      <th></th>\n",
       "      <th>Request id</th>\n",
       "      <th>Pickup point</th>\n",
       "      <th>Driver id</th>\n",
       "      <th>Status</th>\n",
       "      <th>Request timestamp</th>\n",
       "      <th>Drop timestamp</th>\n",
       "    </tr>\n",
       "  </thead>\n",
       "  <tbody>\n",
       "    <tr>\n",
       "      <th>0</th>\n",
       "      <td>619</td>\n",
       "      <td>Airport</td>\n",
       "      <td>1.0</td>\n",
       "      <td>Trip Completed</td>\n",
       "      <td>11/7/2016 11:51</td>\n",
       "      <td>11/7/2016 13:00</td>\n",
       "    </tr>\n",
       "    <tr>\n",
       "      <th>1</th>\n",
       "      <td>867</td>\n",
       "      <td>Airport</td>\n",
       "      <td>1.0</td>\n",
       "      <td>Trip Completed</td>\n",
       "      <td>11/7/2016 17:57</td>\n",
       "      <td>11/7/2016 18:47</td>\n",
       "    </tr>\n",
       "    <tr>\n",
       "      <th>2</th>\n",
       "      <td>1807</td>\n",
       "      <td>City</td>\n",
       "      <td>1.0</td>\n",
       "      <td>Trip Completed</td>\n",
       "      <td>12/7/2016 9:17</td>\n",
       "      <td>12/7/2016 9:58</td>\n",
       "    </tr>\n",
       "    <tr>\n",
       "      <th>3</th>\n",
       "      <td>2532</td>\n",
       "      <td>Airport</td>\n",
       "      <td>1.0</td>\n",
       "      <td>Trip Completed</td>\n",
       "      <td>12/7/2016 21:08</td>\n",
       "      <td>12/7/2016 22:03</td>\n",
       "    </tr>\n",
       "    <tr>\n",
       "      <th>4</th>\n",
       "      <td>3112</td>\n",
       "      <td>City</td>\n",
       "      <td>1.0</td>\n",
       "      <td>Trip Completed</td>\n",
       "      <td>13-07-2016 08:33:16</td>\n",
       "      <td>13-07-2016 09:25:47</td>\n",
       "    </tr>\n",
       "    <tr>\n",
       "      <th>...</th>\n",
       "      <td>...</td>\n",
       "      <td>...</td>\n",
       "      <td>...</td>\n",
       "      <td>...</td>\n",
       "      <td>...</td>\n",
       "      <td>...</td>\n",
       "    </tr>\n",
       "    <tr>\n",
       "      <th>6740</th>\n",
       "      <td>6745</td>\n",
       "      <td>City</td>\n",
       "      <td>NaN</td>\n",
       "      <td>No Cars Available</td>\n",
       "      <td>15-07-2016 23:49:03</td>\n",
       "      <td>NaN</td>\n",
       "    </tr>\n",
       "    <tr>\n",
       "      <th>6741</th>\n",
       "      <td>6752</td>\n",
       "      <td>Airport</td>\n",
       "      <td>NaN</td>\n",
       "      <td>No Cars Available</td>\n",
       "      <td>15-07-2016 23:50:05</td>\n",
       "      <td>NaN</td>\n",
       "    </tr>\n",
       "    <tr>\n",
       "      <th>6742</th>\n",
       "      <td>6751</td>\n",
       "      <td>City</td>\n",
       "      <td>NaN</td>\n",
       "      <td>No Cars Available</td>\n",
       "      <td>15-07-2016 23:52:06</td>\n",
       "      <td>NaN</td>\n",
       "    </tr>\n",
       "    <tr>\n",
       "      <th>6743</th>\n",
       "      <td>6754</td>\n",
       "      <td>City</td>\n",
       "      <td>NaN</td>\n",
       "      <td>No Cars Available</td>\n",
       "      <td>15-07-2016 23:54:39</td>\n",
       "      <td>NaN</td>\n",
       "    </tr>\n",
       "    <tr>\n",
       "      <th>6744</th>\n",
       "      <td>6753</td>\n",
       "      <td>Airport</td>\n",
       "      <td>NaN</td>\n",
       "      <td>No Cars Available</td>\n",
       "      <td>15-07-2016 23:55:03</td>\n",
       "      <td>NaN</td>\n",
       "    </tr>\n",
       "  </tbody>\n",
       "</table>\n",
       "<p>6745 rows × 6 columns</p>\n",
       "</div>"
      ],
      "text/plain": [
       "      Request id Pickup point  Driver id             Status  \\\n",
       "0            619      Airport        1.0     Trip Completed   \n",
       "1            867      Airport        1.0     Trip Completed   \n",
       "2           1807         City        1.0     Trip Completed   \n",
       "3           2532      Airport        1.0     Trip Completed   \n",
       "4           3112         City        1.0     Trip Completed   \n",
       "...          ...          ...        ...                ...   \n",
       "6740        6745         City        NaN  No Cars Available   \n",
       "6741        6752      Airport        NaN  No Cars Available   \n",
       "6742        6751         City        NaN  No Cars Available   \n",
       "6743        6754         City        NaN  No Cars Available   \n",
       "6744        6753      Airport        NaN  No Cars Available   \n",
       "\n",
       "        Request timestamp       Drop timestamp  \n",
       "0         11/7/2016 11:51      11/7/2016 13:00  \n",
       "1         11/7/2016 17:57      11/7/2016 18:47  \n",
       "2          12/7/2016 9:17       12/7/2016 9:58  \n",
       "3         12/7/2016 21:08      12/7/2016 22:03  \n",
       "4     13-07-2016 08:33:16  13-07-2016 09:25:47  \n",
       "...                   ...                  ...  \n",
       "6740  15-07-2016 23:49:03                  NaN  \n",
       "6741  15-07-2016 23:50:05                  NaN  \n",
       "6742  15-07-2016 23:52:06                  NaN  \n",
       "6743  15-07-2016 23:54:39                  NaN  \n",
       "6744  15-07-2016 23:55:03                  NaN  \n",
       "\n",
       "[6745 rows x 6 columns]"
      ]
     },
     "execution_count": 2,
     "metadata": {},
     "output_type": "execute_result"
    }
   ],
   "source": [
    "mydata=pd.read_csv(\"Uber Request Data.csv\")\n",
    "mydata"
   ]
  },
  {
   "cell_type": "markdown",
   "id": "7532cf3b",
   "metadata": {},
   "source": [
    "### Renaming Columns (For Clarity)"
   ]
  },
  {
   "cell_type": "code",
   "execution_count": 3,
   "id": "87ff1c05",
   "metadata": {},
   "outputs": [],
   "source": [
    "mydata.columns=['Request_ID','Pickup_Point','Driver_ID','Status','Request_Timestamp','Drop_Timestamp']"
   ]
  },
  {
   "cell_type": "code",
   "execution_count": 4,
   "id": "6a7961e4",
   "metadata": {},
   "outputs": [
    {
     "data": {
      "text/plain": [
       "Index(['Request_ID', 'Pickup_Point', 'Driver_ID', 'Status',\n",
       "       'Request_Timestamp', 'Drop_Timestamp'],\n",
       "      dtype='object')"
      ]
     },
     "execution_count": 4,
     "metadata": {},
     "output_type": "execute_result"
    }
   ],
   "source": [
    "mydata.columns"
   ]
  },
  {
   "cell_type": "markdown",
   "id": "45705743",
   "metadata": {},
   "source": [
    "### Printing Number of Columns & Rows (For Checking Data Size)"
   ]
  },
  {
   "cell_type": "code",
   "execution_count": 5,
   "id": "af37e572",
   "metadata": {},
   "outputs": [
    {
     "name": "stdout",
     "output_type": "stream",
     "text": [
      "(6745, 6)\n"
     ]
    }
   ],
   "source": [
    "print(mydata.shape)"
   ]
  },
  {
   "cell_type": "markdown",
   "id": "0da6e3d0",
   "metadata": {},
   "source": [
    "### Printing Datatypes"
   ]
  },
  {
   "cell_type": "code",
   "execution_count": 6,
   "id": "cc36b7f3",
   "metadata": {},
   "outputs": [
    {
     "data": {
      "text/plain": [
       "Request_ID             int64\n",
       "Pickup_Point          object\n",
       "Driver_ID            float64\n",
       "Status                object\n",
       "Request_Timestamp     object\n",
       "Drop_Timestamp        object\n",
       "dtype: object"
      ]
     },
     "execution_count": 6,
     "metadata": {},
     "output_type": "execute_result"
    }
   ],
   "source": [
    "mydata.dtypes"
   ]
  },
  {
   "cell_type": "code",
   "execution_count": 7,
   "id": "6e00fa07",
   "metadata": {},
   "outputs": [
    {
     "data": {
      "text/plain": [
       "Request_ID              0\n",
       "Pickup_Point            0\n",
       "Driver_ID            2650\n",
       "Status                  0\n",
       "Request_Timestamp       0\n",
       "Drop_Timestamp       3914\n",
       "dtype: int64"
      ]
     },
     "execution_count": 7,
     "metadata": {},
     "output_type": "execute_result"
    }
   ],
   "source": [
    "mydata.isnull().sum()"
   ]
  },
  {
   "cell_type": "markdown",
   "id": "1e32639f",
   "metadata": {},
   "source": [
    "## Analysis: 1"
   ]
  },
  {
   "cell_type": "markdown",
   "id": "5462ca5c",
   "metadata": {},
   "source": [
    "### Pie Chart Visualization Showing Booking Status in Percentages"
   ]
  },
  {
   "cell_type": "code",
   "execution_count": 8,
   "id": "e7b31c81",
   "metadata": {},
   "outputs": [
    {
     "data": {
      "image/png": "[encoded data removed]",
      "text/plain": [
       "<Figure size 432x288 with 1 Axes>"
      ]
     },
     "metadata": {},
     "output_type": "display_data"
    }
   ],
   "source": [
    "mydata['Status'].value_counts().plot(kind='pie',autopct='%i%%',colors=['greenyellow','lightskyblue','orangered'])\n",
    "plt.legend(bbox_to_anchor=(1.05, 1), loc='upper left', borderaxespad=0,title=('Booking Status'))\n",
    "plt.show()"
   ]
  },
  {
   "cell_type": "markdown",
   "id": "1fdcda84",
   "metadata": {},
   "source": [
    "## Analysis: 2"
   ]
  },
  {
   "cell_type": "markdown",
   "id": "d902d26a",
   "metadata": {},
   "source": [
    "####  Organising Preliminary Data "
   ]
  },
  {
   "cell_type": "code",
   "execution_count": 9,
   "id": "58729d49",
   "metadata": {},
   "outputs": [
    {
     "name": "stdout",
     "output_type": "stream",
     "text": [
      "completed_trips: (2831, 8)\n",
      "cancelled_trips: (1264, 8)\n",
      "cars_unavailable: (2650, 8)\n"
     ]
    }
   ],
   "source": [
    "#Converting Timestamp Datatype to Object\n",
    "mydata[\"Request_Timestamp\"]=pd.to_datetime(mydata[\"Request_Timestamp\"])\n",
    "\n",
    "#Converting Hour From the Timestamp to Plot Time Slots\n",
    "mydata[\"Request_Hour\"]=mydata[\"Request_Timestamp\"].dt.hour\n",
    "mydata[\"Drop_Timestamp\"]=pd.to_datetime(mydata[\"Drop_Timestamp\"])\n",
    "mydata[\"Drop_Hour\"]=mydata[\"Drop_Timestamp\"].dt.hour\n",
    "\n",
    "#All the Completed Trips\n",
    "completed_trips=mydata[mydata['Status']=='Trip Completed']\n",
    "print('completed_trips:',completed_trips.shape)\n",
    "\n",
    "#All the Cancelled Trips\n",
    "cancelled_trips=mydata[mydata['Status']=='Cancelled']\n",
    "print('cancelled_trips:',cancelled_trips.shape)\n",
    "\n",
    "#All the Trips Where Cars Were Not Available\n",
    "no_cars_available=mydata[mydata['Status']=='No Cars Available']\n",
    "print('cars_unavailable:',no_cars_available.shape)\n",
    "\n",
    "#Converting the Hours Column to List Format\n",
    "completed_hour=completed_trips['Request_Hour'].tolist()\n",
    "cancelled_hour=cancelled_trips['Request_Hour'].tolist()\n",
    "unavailable_hour=no_cars_available['Request_Hour'].tolist()"
   ]
  },
  {
   "cell_type": "markdown",
   "id": "19b494e1",
   "metadata": {},
   "source": [
    "### [A]  Histogram Showing Completed Trips with Time"
   ]
  },
  {
   "cell_type": "code",
   "execution_count": 10,
   "id": "2b6edbac",
   "metadata": {},
   "outputs": [
    {
     "data": {
      "image/png": "[encoded data removed]",
      "text/plain": [
       "<Figure size 432x288 with 1 Axes>"
      ]
     },
     "metadata": {
      "needs_background": "light"
     },
     "output_type": "display_data"
    }
   ],
   "source": [
    "range=(0, 23)\n",
    "bins=24\n",
    "def plots(a):\n",
    "    plt.hist(a,bins,range,color='greenyellow',histtype='bar',rwidth=0.8)\n",
    "    plt.xlabel('Time in (24 hrs)')\n",
    "    plt.ylabel(\"Completed Trips\")\n",
    "plots(completed_hour)\n",
    "plt.show()"
   ]
  },
  {
   "cell_type": "markdown",
   "id": "8d3e7cf9",
   "metadata": {},
   "source": [
    "### [B] Histogram Showing Cancelled Trips with Time"
   ]
  },
  {
   "cell_type": "code",
   "execution_count": 11,
   "id": "9235614b",
   "metadata": {},
   "outputs": [
    {
     "data": {
      "image/png": "[encoded data removed]",
      "text/plain": [
       "<Figure size 432x288 with 1 Axes>"
      ]
     },
     "metadata": {
      "needs_background": "light"
     },
     "output_type": "display_data"
    }
   ],
   "source": [
    "range=(0, 23)\n",
    "bins=24\n",
    "def plots(a):\n",
    "    plt.hist(a,bins,range,color='orangered',histtype='bar',rwidth=0.8)\n",
    "    plt.xlabel('Time in (24 hrs)')\n",
    "    plt.ylabel(\"Cancelled Trips\")\n",
    "plots(cancelled_hour)\n",
    "plt.show()"
   ]
  },
  {
   "cell_type": "markdown",
   "id": "39076124",
   "metadata": {},
   "source": [
    "### [C] Histogram Showing Unsuccessful Trips due to Un-Availability of Cars with Time"
   ]
  },
  {
   "cell_type": "code",
   "execution_count": 12,
   "id": "f04e9820",
   "metadata": {},
   "outputs": [
    {
     "data": {
      "image/png": "[encoded data removed]",
      "text/plain": [
       "<Figure size 432x288 with 1 Axes>"
      ]
     },
     "metadata": {
      "needs_background": "light"
     },
     "output_type": "display_data"
    }
   ],
   "source": [
    "range=(0, 23)\n",
    "bins=24\n",
    "def plots(a):\n",
    "    plt.hist(a,bins,range,color='lightskyblue',histtype='bar',rwidth=0.8)\n",
    "    plt.xlabel('Time in (24 hrs)')\n",
    "    plt.ylabel(\"Cars Not Available\")\n",
    "plots(unavailable_hour)\n",
    "plt.show()"
   ]
  },
  {
   "cell_type": "markdown",
   "id": "dbce871e",
   "metadata": {},
   "source": [
    "## Analysis: 3"
   ]
  },
  {
   "cell_type": "markdown",
   "id": "bc2f44a2",
   "metadata": {},
   "source": [
    "### Pie Chart Visualization Showing Pickup Points in Percentages"
   ]
  },
  {
   "cell_type": "code",
   "execution_count": 13,
   "id": "d950d02a",
   "metadata": {},
   "outputs": [
    {
     "data": {
      "image/png": "[encoded data removed]",
      "text/plain": [
       "<Figure size 432x288 with 1 Axes>"
      ]
     },
     "metadata": {},
     "output_type": "display_data"
    }
   ],
   "source": [
    "#Pie Chart Visualization of 'Pickup Point'\n",
    "mydata['Pickup_Point'].value_counts().plot(kind='pie',autopct='%2.2f%%',colors=['peru','aquamarine'],explode=[0.05,0.01])\n",
    "plt.legend(bbox_to_anchor=(1.05, 1),loc='upper left', borderaxespad=0,title=('Pickup Points'))\n",
    "plt.show()"
   ]
  },
  {
   "cell_type": "markdown",
   "id": "3b9691c7",
   "metadata": {},
   "source": [
    "## Analysis: 4"
   ]
  },
  {
   "cell_type": "markdown",
   "id": "7d1d34ae",
   "metadata": {},
   "source": [
    "### Pie Chart Visualization Showing Failed Trips in Percentages"
   ]
  },
  {
   "cell_type": "code",
   "execution_count": 14,
   "id": "b99e9d78",
   "metadata": {},
   "outputs": [
    {
     "name": "stdout",
     "output_type": "stream",
     "text": [
      "Failed trips from city to airport: (2003, 8)\n",
      "Failed trips from airport to city: (1911, 8)\n"
     ]
    }
   ],
   "source": [
    "#Failed trips from city to airport\n",
    "city_to_airport=mydata[(mydata.Status!='Trip Completed')&(mydata.Pickup_Point=='City')]\n",
    "\n",
    "#Failed trips from airport to city\n",
    "airport_to_city=mydata[(mydata.Status!='Trip Completed')&(mydata.Pickup_Point=='Airport')]\n",
    "\n",
    "#Printing failed trips from city to airport\n",
    "print('Failed trips from city to airport:',city_to_airport.shape)\n",
    "\n",
    "#Printing failed trips from airport to city\n",
    "print('Failed trips from airport to city:',airport_to_city.shape)"
   ]
  },
  {
   "cell_type": "code",
   "execution_count": 15,
   "id": "f26d0803",
   "metadata": {},
   "outputs": [
    {
     "data": {
      "image/png": "[encoded data removed]",
      "text/plain": [
       "<Figure size 432x288 with 1 Axes>"
      ]
     },
     "metadata": {},
     "output_type": "display_data"
    }
   ],
   "source": [
    "a=[\"From City to Airport\", \"From Airport to City\"]\n",
    "b=np.array([2003, 1911])\n",
    "plt.pie(b, labels=a,autopct='%2.2f%%',colors=['peru','aquamarine'])\n",
    "plt.legend(bbox_to_anchor=(1.05, 1), loc='upper left', borderaxespad=0,title=('Failed Trips'))\n",
    "plt.show()"
   ]
  },
  {
   "cell_type": "markdown",
   "id": "dfb733ed",
   "metadata": {},
   "source": [
    "# Analysis: 5"
   ]
  },
  {
   "cell_type": "markdown",
   "id": "d663e24e",
   "metadata": {},
   "source": [
    "####  Organising Preliminary Data "
   ]
  },
  {
   "cell_type": "code",
   "execution_count": 16,
   "id": "d8d40db8",
   "metadata": {},
   "outputs": [
    {
     "name": "stdout",
     "output_type": "stream",
     "text": [
      "cancelled_trips From City to Airport: (1066, 8)\n",
      "Unavailable_trips from city to airport: (937, 8)\n",
      "cancelled_trips From Airport to City: (198, 8)\n",
      "Unavailable_trips from airport to city: (1713, 8)\n"
     ]
    }
   ],
   "source": [
    "#Cancelled Trips From City to Airport\n",
    "city_to_airport_cancelled=mydata[(mydata.Status=='Cancelled')&(mydata.Pickup_Point=='City')]\n",
    "print('cancelled_trips From City to Airport:',city_to_airport_cancelled.shape)\n",
    "\n",
    "#Trips From City to Airport (When Cars Were Unavailable)\n",
    "city_to_airport_un_available=mydata[(mydata.Status=='No Cars Available')&(mydata.Pickup_Point=='City')]\n",
    "print('Unavailable_trips from city to airport:',city_to_airport_un_available.shape)\n",
    "\n",
    "#Cancelled Trips From Airport to City\n",
    "airport_to_city_cancelled=mydata[(mydata.Status=='Cancelled')&(mydata.Pickup_Point=='Airport')]\n",
    "print('cancelled_trips From Airport to City:',airport_to_city_cancelled.shape)\n",
    "\n",
    "#Trips From Airport to City (When Cars Were Unavailable)\n",
    "airport_to_city_un_available=mydata[(mydata.Status=='No Cars Available')&(mydata.Pickup_Point=='Airport')]\n",
    "print('Unavailable_trips from airport to city:',airport_to_city_un_available.shape)"
   ]
  },
  {
   "cell_type": "markdown",
   "id": "f9a8a037",
   "metadata": {},
   "source": [
    "### [A] Histogram Showing 'Cancelled Trips From City-to-Airport with Time'"
   ]
  },
  {
   "cell_type": "code",
   "execution_count": 17,
   "id": "5638c7f4",
   "metadata": {},
   "outputs": [],
   "source": [
    "#Converting the Hours Column to List Format\n",
    "city_to_airport_cancelled_hour = city_to_airport_cancelled['Request_Hour'].tolist()"
   ]
  },
  {
   "cell_type": "code",
   "execution_count": 18,
   "id": "8ea57a17",
   "metadata": {},
   "outputs": [
    {
     "data": {
      "image/png": "[encoded data removed]",
      "text/plain": [
       "<Figure size 432x288 with 1 Axes>"
      ]
     },
     "metadata": {
      "needs_background": "light"
     },
     "output_type": "display_data"
    }
   ],
   "source": [
    "def plots(a):\n",
    "    plt.hist(a,bins,range,color=['orangered'],histtype='bar',rwidth=0.8)\n",
    "    plt.xlabel('Time in (24 hrs)')\n",
    "    plt.ylabel(\"Cancelled Trips (City to Airport)\")\n",
    "plots(city_to_airport_cancelled_hour)\n",
    "plt.show()"
   ]
  },
  {
   "cell_type": "markdown",
   "id": "23f05892",
   "metadata": {},
   "source": [
    "### [B] Histogram Showing Unsuccessful Trips From 'City-to-Airport due to Un-Availability of Cars with Time'"
   ]
  },
  {
   "cell_type": "code",
   "execution_count": 19,
   "id": "9aa64e17",
   "metadata": {},
   "outputs": [],
   "source": [
    "#Converting the Hours Column to List Format\n",
    "city_to_airport_un_available_hour = city_to_airport_un_available['Request_Hour'].tolist()"
   ]
  },
  {
   "cell_type": "code",
   "execution_count": 20,
   "id": "d3d2d7aa",
   "metadata": {},
   "outputs": [
    {
     "data": {
      "image/png": "[encoded data removed]",
      "text/plain": [
       "<Figure size 432x288 with 1 Axes>"
      ]
     },
     "metadata": {
      "needs_background": "light"
     },
     "output_type": "display_data"
    }
   ],
   "source": [
    "def plots(a):\n",
    "    plt.hist(a,bins,range,color='lightskyblue',histtype='bar',rwidth=0.8)\n",
    "    plt.xlabel('Time in (24 hrs)')\n",
    "    plt.ylabel(\"Cars Not Available (City to Airport)\")\n",
    "plots(city_to_airport_un_available_hour)\n",
    "plt.show()"
   ]
  },
  {
   "cell_type": "markdown",
   "id": "a4485e37",
   "metadata": {},
   "source": [
    "### [C] Histogram Showing 'Cancelled Trips From Airport-to-City with Time'"
   ]
  },
  {
   "cell_type": "code",
   "execution_count": 21,
   "id": "6e1e838e",
   "metadata": {},
   "outputs": [],
   "source": [
    "#Converting the Hours Column to List Format\n",
    "airport_to_city_cancelled_hour = airport_to_city_cancelled['Request_Hour'].tolist()"
   ]
  },
  {
   "cell_type": "code",
   "execution_count": 22,
   "id": "79f24ddc",
   "metadata": {},
   "outputs": [
    {
     "data": {
      "image/png": "[encoded data removed]",
      "text/plain": [
       "<Figure size 432x288 with 1 Axes>"
      ]
     },
     "metadata": {
      "needs_background": "light"
     },
     "output_type": "display_data"
    }
   ],
   "source": [
    "city_to_airport_cancelled_hour=city_to_airport_un_available['Request_Hour'].tolist()\n",
    "def plots(a):\n",
    "    plt.hist(a,bins,range,color=['orangered'],histtype='bar',rwidth=0.8)\n",
    "    plt.xlabel('Time in (24 hrs)')\n",
    "    plt.ylabel(\"Cancelled Trips (Airport to City)\")\n",
    "plots(airport_to_city_cancelled_hour)\n",
    "plt.show()"
   ]
  },
  {
   "cell_type": "markdown",
   "id": "679868c5",
   "metadata": {},
   "source": [
    "### [D] Histogram Showing Unsuccessful Trips From 'Airport-to-City due to Un-Availability of Cars with Time'"
   ]
  },
  {
   "cell_type": "code",
   "execution_count": 23,
   "id": "a86d88a3",
   "metadata": {},
   "outputs": [],
   "source": [
    "#Converting the Hours Column to List Format\n",
    "airport_to_city_un_available_hour = airport_to_city_un_available['Request_Hour'].tolist()"
   ]
  },
  {
   "cell_type": "code",
   "execution_count": 24,
   "id": "9f4ce04e",
   "metadata": {},
   "outputs": [
    {
     "data": {
      "image/png": "[encoded data removed]",
      "text/plain": [
       "<Figure size 432x288 with 1 Axes>"
      ]
     },
     "metadata": {
      "needs_background": "light"
     },
     "output_type": "display_data"
    }
   ],
   "source": [
    "def plots(a):\n",
    "    plt.hist(a,bins,range,color=['lightskyblue'],histtype='bar',rwidth=0.8)\n",
    "    plt.xlabel('Time in (24 hrs)')\n",
    "    plt.ylabel(\"Cars Not Available (Airport to City)\")\n",
    "plots(airport_to_city_un_available_hour)\n",
    "plt.show()"
   ]
  },
  {
   "cell_type": "markdown",
   "id": "f0a638cb",
   "metadata": {},
   "source": [
    "## Analysis: 6"
   ]
  },
  {
   "cell_type": "markdown",
   "id": "998d5791",
   "metadata": {},
   "source": [
    "### Pie Chart Visualization Showing Supply Demand Gap"
   ]
  },
  {
   "cell_type": "code",
   "execution_count": 25,
   "id": "708263de",
   "metadata": {},
   "outputs": [
    {
     "name": "stdout",
     "output_type": "stream",
     "text": [
      "Total_demand: (6745, 8)\n",
      "completed_trips: (2831, 8)\n"
     ]
    }
   ],
   "source": [
    "#Printing total demand\n",
    "print('Total_demand:',mydata.shape)\n",
    "\n",
    "#Printing total completed trips (Demands met)\n",
    "completed_trips=mydata[mydata['Status']=='Trip Completed']\n",
    "print('completed_trips:',completed_trips.shape)"
   ]
  },
  {
   "cell_type": "code",
   "execution_count": 26,
   "id": "1c4dbc6b",
   "metadata": {},
   "outputs": [
    {
     "data": {
      "image/png": "[encoded data removed]",
      "text/plain": [
       "<Figure size 432x288 with 1 Axes>"
      ]
     },
     "metadata": {},
     "output_type": "display_data"
    }
   ],
   "source": [
    "c=[\"Supply (Trips Completed)\", \"Demands (Not Met due to Un-Availability of Cars)\"]\n",
    "d=np.array([2831, 6745])\n",
    "plt.pie(d, labels=c,autopct='%2.2f%%',colors=['greenyellow','coral'])\n",
    "plt.legend(bbox_to_anchor=(1.5, 1),loc='upper left',borderaxespad=0,title=('Supply v/s Demand'))\n",
    "plt.show()"
   ]
  },
  {
   "cell_type": "markdown",
   "id": "b1bda6ca",
   "metadata": {},
   "source": [
    "### THE END"
   ]
  }
 ],
 "metadata": {
  "kernelspec": {
   "display_name": "Python 3 (ipykernel)",
   "language": "python",
   "name": "python3"
  },
  "language_info": {
   "codemirror_mode": {
    "name": "ipython",
    "version": 3
   },
   "file_extension": ".py",
   "mimetype": "text/x-python",
   "name": "python",
   "nbconvert_exporter": "python",
   "pygments_lexer": "ipython3",
   "version": "3.9.12"
  }
 },
 "nbformat": 4,
 "nbformat_minor": 5
}
